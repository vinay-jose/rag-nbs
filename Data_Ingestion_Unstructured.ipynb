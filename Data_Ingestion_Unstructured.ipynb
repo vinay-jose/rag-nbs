{
  "nbformat": 4,
  "nbformat_minor": 0,
  "metadata": {
    "colab": {
      "provenance": [],
      "authorship_tag": "ABX9TyMUpC/qwq/kB7qpjpRTzp9h",
      "include_colab_link": true
    },
    "kernelspec": {
      "name": "python3",
      "display_name": "Python 3"
    },
    "language_info": {
      "name": "python"
    },
    "widgets": {
      "application/vnd.jupyter.widget-state+json": {
        "f8481c54bfc24a668456f72cea734181": {
          "model_module": "@jupyter-widgets/controls",
          "model_name": "HBoxModel",
          "model_module_version": "1.5.0",
          "state": {
            "_dom_classes": [],
            "_model_module": "@jupyter-widgets/controls",
            "_model_module_version": "1.5.0",
            "_model_name": "HBoxModel",
            "_view_count": null,
            "_view_module": "@jupyter-widgets/controls",
            "_view_module_version": "1.5.0",
            "_view_name": "HBoxView",
            "box_style": "",
            "children": [
              "IPY_MODEL_41ea2c2dfa9a419e869e5331d5fc6525",
              "IPY_MODEL_8d79afdfc0f2497087fb063d8219ec49",
              "IPY_MODEL_84ef0788d3b74f9fba7556bc7b47facf"
            ],
            "layout": "IPY_MODEL_10ac82e7758244799ea26345943415f3"
          }
        },
        "41ea2c2dfa9a419e869e5331d5fc6525": {
          "model_module": "@jupyter-widgets/controls",
          "model_name": "HTMLModel",
          "model_module_version": "1.5.0",
          "state": {
            "_dom_classes": [],
            "_model_module": "@jupyter-widgets/controls",
            "_model_module_version": "1.5.0",
            "_model_name": "HTMLModel",
            "_view_count": null,
            "_view_module": "@jupyter-widgets/controls",
            "_view_module_version": "1.5.0",
            "_view_name": "HTMLView",
            "description": "",
            "description_tooltip": null,
            "layout": "IPY_MODEL_d15860781efa482f89ca3e9ff3eba39b",
            "placeholder": "​",
            "style": "IPY_MODEL_647fdf510c424b2aa9d3ecf7042b106c",
            "value": "yolox_l0.05.onnx: 100%"
          }
        },
        "8d79afdfc0f2497087fb063d8219ec49": {
          "model_module": "@jupyter-widgets/controls",
          "model_name": "FloatProgressModel",
          "model_module_version": "1.5.0",
          "state": {
            "_dom_classes": [],
            "_model_module": "@jupyter-widgets/controls",
            "_model_module_version": "1.5.0",
            "_model_name": "FloatProgressModel",
            "_view_count": null,
            "_view_module": "@jupyter-widgets/controls",
            "_view_module_version": "1.5.0",
            "_view_name": "ProgressView",
            "bar_style": "success",
            "description": "",
            "description_tooltip": null,
            "layout": "IPY_MODEL_7888d702a8a049659d06377fd49f2a3b",
            "max": 216625723,
            "min": 0,
            "orientation": "horizontal",
            "style": "IPY_MODEL_f2273b9d2de24aebab73ce0b415eb52d",
            "value": 216625723
          }
        },
        "84ef0788d3b74f9fba7556bc7b47facf": {
          "model_module": "@jupyter-widgets/controls",
          "model_name": "HTMLModel",
          "model_module_version": "1.5.0",
          "state": {
            "_dom_classes": [],
            "_model_module": "@jupyter-widgets/controls",
            "_model_module_version": "1.5.0",
            "_model_name": "HTMLModel",
            "_view_count": null,
            "_view_module": "@jupyter-widgets/controls",
            "_view_module_version": "1.5.0",
            "_view_name": "HTMLView",
            "description": "",
            "description_tooltip": null,
            "layout": "IPY_MODEL_ab953caba1b54983b61c75a423f167b3",
            "placeholder": "​",
            "style": "IPY_MODEL_3d64913c9cb744f0a70e04a8cf08a011",
            "value": " 217M/217M [00:01&lt;00:00, 196MB/s]"
          }
        },
        "10ac82e7758244799ea26345943415f3": {
          "model_module": "@jupyter-widgets/base",
          "model_name": "LayoutModel",
          "model_module_version": "1.2.0",
          "state": {
            "_model_module": "@jupyter-widgets/base",
            "_model_module_version": "1.2.0",
            "_model_name": "LayoutModel",
            "_view_count": null,
            "_view_module": "@jupyter-widgets/base",
            "_view_module_version": "1.2.0",
            "_view_name": "LayoutView",
            "align_content": null,
            "align_items": null,
            "align_self": null,
            "border": null,
            "bottom": null,
            "display": null,
            "flex": null,
            "flex_flow": null,
            "grid_area": null,
            "grid_auto_columns": null,
            "grid_auto_flow": null,
            "grid_auto_rows": null,
            "grid_column": null,
            "grid_gap": null,
            "grid_row": null,
            "grid_template_areas": null,
            "grid_template_columns": null,
            "grid_template_rows": null,
            "height": null,
            "justify_content": null,
            "justify_items": null,
            "left": null,
            "margin": null,
            "max_height": null,
            "max_width": null,
            "min_height": null,
            "min_width": null,
            "object_fit": null,
            "object_position": null,
            "order": null,
            "overflow": null,
            "overflow_x": null,
            "overflow_y": null,
            "padding": null,
            "right": null,
            "top": null,
            "visibility": null,
            "width": null
          }
        },
        "d15860781efa482f89ca3e9ff3eba39b": {
          "model_module": "@jupyter-widgets/base",
          "model_name": "LayoutModel",
          "model_module_version": "1.2.0",
          "state": {
            "_model_module": "@jupyter-widgets/base",
            "_model_module_version": "1.2.0",
            "_model_name": "LayoutModel",
            "_view_count": null,
            "_view_module": "@jupyter-widgets/base",
            "_view_module_version": "1.2.0",
            "_view_name": "LayoutView",
            "align_content": null,
            "align_items": null,
            "align_self": null,
            "border": null,
            "bottom": null,
            "display": null,
            "flex": null,
            "flex_flow": null,
            "grid_area": null,
            "grid_auto_columns": null,
            "grid_auto_flow": null,
            "grid_auto_rows": null,
            "grid_column": null,
            "grid_gap": null,
            "grid_row": null,
            "grid_template_areas": null,
            "grid_template_columns": null,
            "grid_template_rows": null,
            "height": null,
            "justify_content": null,
            "justify_items": null,
            "left": null,
            "margin": null,
            "max_height": null,
            "max_width": null,
            "min_height": null,
            "min_width": null,
            "object_fit": null,
            "object_position": null,
            "order": null,
            "overflow": null,
            "overflow_x": null,
            "overflow_y": null,
            "padding": null,
            "right": null,
            "top": null,
            "visibility": null,
            "width": null
          }
        },
        "647fdf510c424b2aa9d3ecf7042b106c": {
          "model_module": "@jupyter-widgets/controls",
          "model_name": "DescriptionStyleModel",
          "model_module_version": "1.5.0",
          "state": {
            "_model_module": "@jupyter-widgets/controls",
            "_model_module_version": "1.5.0",
            "_model_name": "DescriptionStyleModel",
            "_view_count": null,
            "_view_module": "@jupyter-widgets/base",
            "_view_module_version": "1.2.0",
            "_view_name": "StyleView",
            "description_width": ""
          }
        },
        "7888d702a8a049659d06377fd49f2a3b": {
          "model_module": "@jupyter-widgets/base",
          "model_name": "LayoutModel",
          "model_module_version": "1.2.0",
          "state": {
            "_model_module": "@jupyter-widgets/base",
            "_model_module_version": "1.2.0",
            "_model_name": "LayoutModel",
            "_view_count": null,
            "_view_module": "@jupyter-widgets/base",
            "_view_module_version": "1.2.0",
            "_view_name": "LayoutView",
            "align_content": null,
            "align_items": null,
            "align_self": null,
            "border": null,
            "bottom": null,
            "display": null,
            "flex": null,
            "flex_flow": null,
            "grid_area": null,
            "grid_auto_columns": null,
            "grid_auto_flow": null,
            "grid_auto_rows": null,
            "grid_column": null,
            "grid_gap": null,
            "grid_row": null,
            "grid_template_areas": null,
            "grid_template_columns": null,
            "grid_template_rows": null,
            "height": null,
            "justify_content": null,
            "justify_items": null,
            "left": null,
            "margin": null,
            "max_height": null,
            "max_width": null,
            "min_height": null,
            "min_width": null,
            "object_fit": null,
            "object_position": null,
            "order": null,
            "overflow": null,
            "overflow_x": null,
            "overflow_y": null,
            "padding": null,
            "right": null,
            "top": null,
            "visibility": null,
            "width": null
          }
        },
        "f2273b9d2de24aebab73ce0b415eb52d": {
          "model_module": "@jupyter-widgets/controls",
          "model_name": "ProgressStyleModel",
          "model_module_version": "1.5.0",
          "state": {
            "_model_module": "@jupyter-widgets/controls",
            "_model_module_version": "1.5.0",
            "_model_name": "ProgressStyleModel",
            "_view_count": null,
            "_view_module": "@jupyter-widgets/base",
            "_view_module_version": "1.2.0",
            "_view_name": "StyleView",
            "bar_color": null,
            "description_width": ""
          }
        },
        "ab953caba1b54983b61c75a423f167b3": {
          "model_module": "@jupyter-widgets/base",
          "model_name": "LayoutModel",
          "model_module_version": "1.2.0",
          "state": {
            "_model_module": "@jupyter-widgets/base",
            "_model_module_version": "1.2.0",
            "_model_name": "LayoutModel",
            "_view_count": null,
            "_view_module": "@jupyter-widgets/base",
            "_view_module_version": "1.2.0",
            "_view_name": "LayoutView",
            "align_content": null,
            "align_items": null,
            "align_self": null,
            "border": null,
            "bottom": null,
            "display": null,
            "flex": null,
            "flex_flow": null,
            "grid_area": null,
            "grid_auto_columns": null,
            "grid_auto_flow": null,
            "grid_auto_rows": null,
            "grid_column": null,
            "grid_gap": null,
            "grid_row": null,
            "grid_template_areas": null,
            "grid_template_columns": null,
            "grid_template_rows": null,
            "height": null,
            "justify_content": null,
            "justify_items": null,
            "left": null,
            "margin": null,
            "max_height": null,
            "max_width": null,
            "min_height": null,
            "min_width": null,
            "object_fit": null,
            "object_position": null,
            "order": null,
            "overflow": null,
            "overflow_x": null,
            "overflow_y": null,
            "padding": null,
            "right": null,
            "top": null,
            "visibility": null,
            "width": null
          }
        },
        "3d64913c9cb744f0a70e04a8cf08a011": {
          "model_module": "@jupyter-widgets/controls",
          "model_name": "DescriptionStyleModel",
          "model_module_version": "1.5.0",
          "state": {
            "_model_module": "@jupyter-widgets/controls",
            "_model_module_version": "1.5.0",
            "_model_name": "DescriptionStyleModel",
            "_view_count": null,
            "_view_module": "@jupyter-widgets/base",
            "_view_module_version": "1.2.0",
            "_view_name": "StyleView",
            "description_width": ""
          }
        },
        "f38de17e633d4d5ab5169fddb924decb": {
          "model_module": "@jupyter-widgets/controls",
          "model_name": "HBoxModel",
          "model_module_version": "1.5.0",
          "state": {
            "_dom_classes": [],
            "_model_module": "@jupyter-widgets/controls",
            "_model_module_version": "1.5.0",
            "_model_name": "HBoxModel",
            "_view_count": null,
            "_view_module": "@jupyter-widgets/controls",
            "_view_module_version": "1.5.0",
            "_view_name": "HBoxView",
            "box_style": "",
            "children": [
              "IPY_MODEL_30eb61b1139c4a44adfd31a30f326719",
              "IPY_MODEL_2d21706185f04ce6b1a8cab3e87106b2",
              "IPY_MODEL_e5b62609e1c549d0997c99b2aeb3694d"
            ],
            "layout": "IPY_MODEL_a8ee9b84bf2342388676bf04b4c35b56"
          }
        },
        "30eb61b1139c4a44adfd31a30f326719": {
          "model_module": "@jupyter-widgets/controls",
          "model_name": "HTMLModel",
          "model_module_version": "1.5.0",
          "state": {
            "_dom_classes": [],
            "_model_module": "@jupyter-widgets/controls",
            "_model_module_version": "1.5.0",
            "_model_name": "HTMLModel",
            "_view_count": null,
            "_view_module": "@jupyter-widgets/controls",
            "_view_module_version": "1.5.0",
            "_view_name": "HTMLView",
            "description": "",
            "description_tooltip": null,
            "layout": "IPY_MODEL_581d3798162347fb961620bbd1fd7fca",
            "placeholder": "​",
            "style": "IPY_MODEL_4ef7d4d0141e4a998311039375161f4b",
            "value": "model.onnx: 100%"
          }
        },
        "2d21706185f04ce6b1a8cab3e87106b2": {
          "model_module": "@jupyter-widgets/controls",
          "model_name": "FloatProgressModel",
          "model_module_version": "1.5.0",
          "state": {
            "_dom_classes": [],
            "_model_module": "@jupyter-widgets/controls",
            "_model_module_version": "1.5.0",
            "_model_name": "FloatProgressModel",
            "_view_count": null,
            "_view_module": "@jupyter-widgets/controls",
            "_view_module_version": "1.5.0",
            "_view_name": "ProgressView",
            "bar_style": "success",
            "description": "",
            "description_tooltip": null,
            "layout": "IPY_MODEL_e009aee67ef4472ea4e863ea227a9c67",
            "max": 165696875,
            "min": 0,
            "orientation": "horizontal",
            "style": "IPY_MODEL_f0ff005ea16f45acb2b6c90d8b16d8ef",
            "value": 165696875
          }
        },
        "e5b62609e1c549d0997c99b2aeb3694d": {
          "model_module": "@jupyter-widgets/controls",
          "model_name": "HTMLModel",
          "model_module_version": "1.5.0",
          "state": {
            "_dom_classes": [],
            "_model_module": "@jupyter-widgets/controls",
            "_model_module_version": "1.5.0",
            "_model_name": "HTMLModel",
            "_view_count": null,
            "_view_module": "@jupyter-widgets/controls",
            "_view_module_version": "1.5.0",
            "_view_name": "HTMLView",
            "description": "",
            "description_tooltip": null,
            "layout": "IPY_MODEL_89511ed447814b0d9e4443f82a615a74",
            "placeholder": "​",
            "style": "IPY_MODEL_65c0d87ca707466283942dfd6385deda",
            "value": " 166M/166M [00:00&lt;00:00, 276MB/s]"
          }
        },
        "a8ee9b84bf2342388676bf04b4c35b56": {
          "model_module": "@jupyter-widgets/base",
          "model_name": "LayoutModel",
          "model_module_version": "1.2.0",
          "state": {
            "_model_module": "@jupyter-widgets/base",
            "_model_module_version": "1.2.0",
            "_model_name": "LayoutModel",
            "_view_count": null,
            "_view_module": "@jupyter-widgets/base",
            "_view_module_version": "1.2.0",
            "_view_name": "LayoutView",
            "align_content": null,
            "align_items": null,
            "align_self": null,
            "border": null,
            "bottom": null,
            "display": null,
            "flex": null,
            "flex_flow": null,
            "grid_area": null,
            "grid_auto_columns": null,
            "grid_auto_flow": null,
            "grid_auto_rows": null,
            "grid_column": null,
            "grid_gap": null,
            "grid_row": null,
            "grid_template_areas": null,
            "grid_template_columns": null,
            "grid_template_rows": null,
            "height": null,
            "justify_content": null,
            "justify_items": null,
            "left": null,
            "margin": null,
            "max_height": null,
            "max_width": null,
            "min_height": null,
            "min_width": null,
            "object_fit": null,
            "object_position": null,
            "order": null,
            "overflow": null,
            "overflow_x": null,
            "overflow_y": null,
            "padding": null,
            "right": null,
            "top": null,
            "visibility": null,
            "width": null
          }
        },
        "581d3798162347fb961620bbd1fd7fca": {
          "model_module": "@jupyter-widgets/base",
          "model_name": "LayoutModel",
          "model_module_version": "1.2.0",
          "state": {
            "_model_module": "@jupyter-widgets/base",
            "_model_module_version": "1.2.0",
            "_model_name": "LayoutModel",
            "_view_count": null,
            "_view_module": "@jupyter-widgets/base",
            "_view_module_version": "1.2.0",
            "_view_name": "LayoutView",
            "align_content": null,
            "align_items": null,
            "align_self": null,
            "border": null,
            "bottom": null,
            "display": null,
            "flex": null,
            "flex_flow": null,
            "grid_area": null,
            "grid_auto_columns": null,
            "grid_auto_flow": null,
            "grid_auto_rows": null,
            "grid_column": null,
            "grid_gap": null,
            "grid_row": null,
            "grid_template_areas": null,
            "grid_template_columns": null,
            "grid_template_rows": null,
            "height": null,
            "justify_content": null,
            "justify_items": null,
            "left": null,
            "margin": null,
            "max_height": null,
            "max_width": null,
            "min_height": null,
            "min_width": null,
            "object_fit": null,
            "object_position": null,
            "order": null,
            "overflow": null,
            "overflow_x": null,
            "overflow_y": null,
            "padding": null,
            "right": null,
            "top": null,
            "visibility": null,
            "width": null
          }
        },
        "4ef7d4d0141e4a998311039375161f4b": {
          "model_module": "@jupyter-widgets/controls",
          "model_name": "DescriptionStyleModel",
          "model_module_version": "1.5.0",
          "state": {
            "_model_module": "@jupyter-widgets/controls",
            "_model_module_version": "1.5.0",
            "_model_name": "DescriptionStyleModel",
            "_view_count": null,
            "_view_module": "@jupyter-widgets/base",
            "_view_module_version": "1.2.0",
            "_view_name": "StyleView",
            "description_width": ""
          }
        },
        "e009aee67ef4472ea4e863ea227a9c67": {
          "model_module": "@jupyter-widgets/base",
          "model_name": "LayoutModel",
          "model_module_version": "1.2.0",
          "state": {
            "_model_module": "@jupyter-widgets/base",
            "_model_module_version": "1.2.0",
            "_model_name": "LayoutModel",
            "_view_count": null,
            "_view_module": "@jupyter-widgets/base",
            "_view_module_version": "1.2.0",
            "_view_name": "LayoutView",
            "align_content": null,
            "align_items": null,
            "align_self": null,
            "border": null,
            "bottom": null,
            "display": null,
            "flex": null,
            "flex_flow": null,
            "grid_area": null,
            "grid_auto_columns": null,
            "grid_auto_flow": null,
            "grid_auto_rows": null,
            "grid_column": null,
            "grid_gap": null,
            "grid_row": null,
            "grid_template_areas": null,
            "grid_template_columns": null,
            "grid_template_rows": null,
            "height": null,
            "justify_content": null,
            "justify_items": null,
            "left": null,
            "margin": null,
            "max_height": null,
            "max_width": null,
            "min_height": null,
            "min_width": null,
            "object_fit": null,
            "object_position": null,
            "order": null,
            "overflow": null,
            "overflow_x": null,
            "overflow_y": null,
            "padding": null,
            "right": null,
            "top": null,
            "visibility": null,
            "width": null
          }
        },
        "f0ff005ea16f45acb2b6c90d8b16d8ef": {
          "model_module": "@jupyter-widgets/controls",
          "model_name": "ProgressStyleModel",
          "model_module_version": "1.5.0",
          "state": {
            "_model_module": "@jupyter-widgets/controls",
            "_model_module_version": "1.5.0",
            "_model_name": "ProgressStyleModel",
            "_view_count": null,
            "_view_module": "@jupyter-widgets/base",
            "_view_module_version": "1.2.0",
            "_view_name": "StyleView",
            "bar_color": null,
            "description_width": ""
          }
        },
        "89511ed447814b0d9e4443f82a615a74": {
          "model_module": "@jupyter-widgets/base",
          "model_name": "LayoutModel",
          "model_module_version": "1.2.0",
          "state": {
            "_model_module": "@jupyter-widgets/base",
            "_model_module_version": "1.2.0",
            "_model_name": "LayoutModel",
            "_view_count": null,
            "_view_module": "@jupyter-widgets/base",
            "_view_module_version": "1.2.0",
            "_view_name": "LayoutView",
            "align_content": null,
            "align_items": null,
            "align_self": null,
            "border": null,
            "bottom": null,
            "display": null,
            "flex": null,
            "flex_flow": null,
            "grid_area": null,
            "grid_auto_columns": null,
            "grid_auto_flow": null,
            "grid_auto_rows": null,
            "grid_column": null,
            "grid_gap": null,
            "grid_row": null,
            "grid_template_areas": null,
            "grid_template_columns": null,
            "grid_template_rows": null,
            "height": null,
            "justify_content": null,
            "justify_items": null,
            "left": null,
            "margin": null,
            "max_height": null,
            "max_width": null,
            "min_height": null,
            "min_width": null,
            "object_fit": null,
            "object_position": null,
            "order": null,
            "overflow": null,
            "overflow_x": null,
            "overflow_y": null,
            "padding": null,
            "right": null,
            "top": null,
            "visibility": null,
            "width": null
          }
        },
        "65c0d87ca707466283942dfd6385deda": {
          "model_module": "@jupyter-widgets/controls",
          "model_name": "DescriptionStyleModel",
          "model_module_version": "1.5.0",
          "state": {
            "_model_module": "@jupyter-widgets/controls",
            "_model_module_version": "1.5.0",
            "_model_name": "DescriptionStyleModel",
            "_view_count": null,
            "_view_module": "@jupyter-widgets/base",
            "_view_module_version": "1.2.0",
            "_view_name": "StyleView",
            "description_width": ""
          }
        }
      }
    }
  },
  "cells": [
    {
      "cell_type": "markdown",
      "metadata": {
        "id": "view-in-github",
        "colab_type": "text"
      },
      "source": [
        "<a href=\"https://colab.research.google.com/github/vinay-jose/rag-nbs/blob/main/Data_Ingestion_Unstructured.ipynb\" target=\"_parent\"><img src=\"https://colab.research.google.com/assets/colab-badge.svg\" alt=\"Open In Colab\"/></a>"
      ]
    },
    {
      "cell_type": "code",
      "source": [
        "!sudo apt-get install poppler-utils"
      ],
      "metadata": {
        "colab": {
          "base_uri": "https://localhost:8080/"
        },
        "id": "7xAa8ny4KTVc",
        "outputId": "ed0e6d27-7892-49f7-8e16-fb56871bbaac",
        "collapsed": true
      },
      "execution_count": null,
      "outputs": [
        {
          "output_type": "stream",
          "name": "stdout",
          "text": [
            "Reading package lists... Done\n",
            "Building dependency tree... Done\n",
            "Reading state information... Done\n",
            "The following NEW packages will be installed:\n",
            "  poppler-utils\n",
            "0 upgraded, 1 newly installed, 0 to remove and 45 not upgraded.\n",
            "Need to get 186 kB of archives.\n",
            "After this operation, 696 kB of additional disk space will be used.\n",
            "Get:1 http://archive.ubuntu.com/ubuntu jammy-updates/main amd64 poppler-utils amd64 22.02.0-2ubuntu0.4 [186 kB]\n",
            "Fetched 186 kB in 1s (176 kB/s)\n",
            "debconf: unable to initialize frontend: Dialog\n",
            "debconf: (No usable dialog-like program is installed, so the dialog based frontend cannot be used. at /usr/share/perl5/Debconf/FrontEnd/Dialog.pm line 78, <> line 1.)\n",
            "debconf: falling back to frontend: Readline\n",
            "debconf: unable to initialize frontend: Readline\n",
            "debconf: (This frontend requires a controlling tty.)\n",
            "debconf: falling back to frontend: Teletype\n",
            "dpkg-preconfigure: unable to re-open stdin: \n",
            "Selecting previously unselected package poppler-utils.\n",
            "(Reading database ... 121913 files and directories currently installed.)\n",
            "Preparing to unpack .../poppler-utils_22.02.0-2ubuntu0.4_amd64.deb ...\n",
            "Unpacking poppler-utils (22.02.0-2ubuntu0.4) ...\n",
            "Setting up poppler-utils (22.02.0-2ubuntu0.4) ...\n",
            "Processing triggers for man-db (2.10.2-1) ...\n"
          ]
        }
      ]
    },
    {
      "cell_type": "code",
      "source": [
        "!sudo apt-get install tesseract-ocr"
      ],
      "metadata": {
        "colab": {
          "base_uri": "https://localhost:8080/"
        },
        "collapsed": true,
        "id": "V-vlxp9XKzES",
        "outputId": "fb7d0b88-6c2f-4553-c481-2351a43f3ac7"
      },
      "execution_count": null,
      "outputs": [
        {
          "output_type": "stream",
          "name": "stdout",
          "text": [
            "Reading package lists... Done\n",
            "Building dependency tree... Done\n",
            "Reading state information... Done\n",
            "The following additional packages will be installed:\n",
            "  tesseract-ocr-eng tesseract-ocr-osd\n",
            "The following NEW packages will be installed:\n",
            "  tesseract-ocr tesseract-ocr-eng tesseract-ocr-osd\n",
            "0 upgraded, 3 newly installed, 0 to remove and 45 not upgraded.\n",
            "Need to get 4,816 kB of archives.\n",
            "After this operation, 15.6 MB of additional disk space will be used.\n",
            "Get:1 http://archive.ubuntu.com/ubuntu jammy/universe amd64 tesseract-ocr-eng all 1:4.00~git30-7274cfa-1.1 [1,591 kB]\n",
            "Get:2 http://archive.ubuntu.com/ubuntu jammy/universe amd64 tesseract-ocr-osd all 1:4.00~git30-7274cfa-1.1 [2,990 kB]\n",
            "Get:3 http://archive.ubuntu.com/ubuntu jammy/universe amd64 tesseract-ocr amd64 4.1.1-2.1build1 [236 kB]\n",
            "Fetched 4,816 kB in 10s (493 kB/s)\n",
            "debconf: unable to initialize frontend: Dialog\n",
            "debconf: (No usable dialog-like program is installed, so the dialog based frontend cannot be used. at /usr/share/perl5/Debconf/FrontEnd/Dialog.pm line 78, <> line 3.)\n",
            "debconf: falling back to frontend: Readline\n",
            "debconf: unable to initialize frontend: Readline\n",
            "debconf: (This frontend requires a controlling tty.)\n",
            "debconf: falling back to frontend: Teletype\n",
            "dpkg-preconfigure: unable to re-open stdin: \n",
            "Selecting previously unselected package tesseract-ocr-eng.\n",
            "(Reading database ... 121943 files and directories currently installed.)\n",
            "Preparing to unpack .../tesseract-ocr-eng_1%3a4.00~git30-7274cfa-1.1_all.deb ...\n",
            "Unpacking tesseract-ocr-eng (1:4.00~git30-7274cfa-1.1) ...\n",
            "Selecting previously unselected package tesseract-ocr-osd.\n",
            "Preparing to unpack .../tesseract-ocr-osd_1%3a4.00~git30-7274cfa-1.1_all.deb ...\n",
            "Unpacking tesseract-ocr-osd (1:4.00~git30-7274cfa-1.1) ...\n",
            "Selecting previously unselected package tesseract-ocr.\n",
            "Preparing to unpack .../tesseract-ocr_4.1.1-2.1build1_amd64.deb ...\n",
            "Unpacking tesseract-ocr (4.1.1-2.1build1) ...\n",
            "Setting up tesseract-ocr-eng (1:4.00~git30-7274cfa-1.1) ...\n",
            "Setting up tesseract-ocr-osd (1:4.00~git30-7274cfa-1.1) ...\n",
            "Setting up tesseract-ocr (4.1.1-2.1build1) ...\n",
            "Processing triggers for man-db (2.10.2-1) ...\n"
          ]
        }
      ]
    },
    {
      "cell_type": "code",
      "source": [
        "# !pip install -Uq jedi pip wheel setuptools"
      ],
      "metadata": {
        "colab": {
          "base_uri": "https://localhost:8080/"
        },
        "id": "wK_H0R9EFORE",
        "outputId": "267f3af8-b00c-4971-b106-ee50814b79a6"
      },
      "execution_count": null,
      "outputs": [
        {
          "output_type": "stream",
          "name": "stdout",
          "text": [
            "\u001b[2K     \u001b[90m━━━━━━━━━━━━━━━━━━━━━━━━━━━━━━━━━━━━━━━━\u001b[0m \u001b[32m1.6/1.6 MB\u001b[0m \u001b[31m10.1 MB/s\u001b[0m eta \u001b[36m0:00:00\u001b[0m\n",
            "\u001b[2K     \u001b[90m━━━━━━━━━━━━━━━━━━━━━━━━━━━━━━━━━━━━━━━━\u001b[0m \u001b[32m2.1/2.1 MB\u001b[0m \u001b[31m21.6 MB/s\u001b[0m eta \u001b[36m0:00:00\u001b[0m\n",
            "\u001b[?25h"
          ]
        }
      ]
    },
    {
      "cell_type": "code",
      "execution_count": null,
      "metadata": {
        "colab": {
          "base_uri": "https://localhost:8080/"
        },
        "collapsed": true,
        "id": "9kRivX0gIFTz",
        "outputId": "17dadb23-cb3a-4386-e354-a448c8716282"
      },
      "outputs": [
        {
          "output_type": "stream",
          "name": "stdout",
          "text": [
            "\u001b[33mWARNING: Running pip as the 'root' user can result in broken permissions and conflicting behaviour with the system package manager. It is recommended to use a virtual environment instead: https://pip.pypa.io/warnings/venv\u001b[0m\u001b[33m\n",
            "\u001b[0m"
          ]
        }
      ],
      "source": [
        "!pip install -Uqq \"unstructured[all-docs]\" pytesseract"
      ]
    },
    {
      "cell_type": "code",
      "source": [
        "from unstructured.partition.pdf import partition_pdf"
      ],
      "metadata": {
        "id": "qY5qso8VIh45"
      },
      "execution_count": null,
      "outputs": []
    },
    {
      "cell_type": "code",
      "source": [
        "chunks = partition_pdf(\"/content/THINKZ schedule of work.pdf\", url=None, chunking_strategy=\"basic\")"
      ],
      "metadata": {
        "colab": {
          "base_uri": "https://localhost:8080/"
        },
        "id": "QCzoL8a6JzY_",
        "outputId": "e3e6c17f-b124-4db4-cb66-1cdef49579c8"
      },
      "execution_count": null,
      "outputs": [
        {
          "output_type": "stream",
          "name": "stderr",
          "text": [
            "[nltk_data] Downloading package punkt to /root/nltk_data...\n",
            "[nltk_data]   Unzipping tokenizers/punkt.zip.\n",
            "[nltk_data] Downloading package averaged_perceptron_tagger to\n",
            "[nltk_data]     /root/nltk_data...\n",
            "[nltk_data]   Unzipping taggers/averaged_perceptron_tagger.zip.\n"
          ]
        }
      ]
    },
    {
      "cell_type": "code",
      "source": [
        "len(chunks)"
      ],
      "metadata": {
        "colab": {
          "base_uri": "https://localhost:8080/"
        },
        "id": "KzYRp8rmLPa8",
        "outputId": "ad42227c-a129-41bf-f9c8-52b4bd735d1a"
      },
      "execution_count": null,
      "outputs": [
        {
          "output_type": "execute_result",
          "data": {
            "text/plain": [
              "28"
            ]
          },
          "metadata": {},
          "execution_count": 3
        }
      ]
    },
    {
      "cell_type": "code",
      "source": [
        "elements = partition_pdf(\"/content/THINKZ schedule of work.pdf\")\n",
        "elements[0], len(elements)"
      ],
      "metadata": {
        "id": "nJZ1IYMCYu14"
      },
      "execution_count": null,
      "outputs": []
    },
    {
      "cell_type": "code",
      "source": [
        "e = elements[0]\n",
        "dir(e)"
      ],
      "metadata": {
        "id": "mBkTk-rVZieG"
      },
      "execution_count": null,
      "outputs": []
    },
    {
      "cell_type": "code",
      "source": [
        "e.text, e.id"
      ],
      "metadata": {
        "id": "v_N315_jaKOM"
      },
      "execution_count": null,
      "outputs": []
    },
    {
      "cell_type": "code",
      "source": [
        "e.to_dict()"
      ],
      "metadata": {
        "id": "cGoPSqWfagIl"
      },
      "execution_count": null,
      "outputs": []
    },
    {
      "cell_type": "code",
      "source": [
        "e.metadata.page_number, e.metadata.filename"
      ],
      "metadata": {
        "id": "0hVggU0pa1FE"
      },
      "execution_count": null,
      "outputs": []
    },
    {
      "cell_type": "code",
      "source": [
        "from unstructured.chunking.title import chunk_by_title"
      ],
      "metadata": {
        "id": "rSWUj-c7ZFg4"
      },
      "execution_count": null,
      "outputs": []
    },
    {
      "cell_type": "code",
      "source": [
        "chunks = chunk_by_title(elements)"
      ],
      "metadata": {
        "id": "s2u4ezOhZG4K"
      },
      "execution_count": null,
      "outputs": []
    },
    {
      "cell_type": "code",
      "source": [
        "len(chunks)"
      ],
      "metadata": {
        "id": "QwAfZGrmZRs4"
      },
      "execution_count": null,
      "outputs": []
    },
    {
      "cell_type": "code",
      "source": [
        "chunks = partition_pdf(\"/content/THINKZ schedule of work.pdf\", url=None, chunking_strategy=\"by_title\")"
      ],
      "metadata": {
        "id": "3eSdPoVnLR5L"
      },
      "execution_count": null,
      "outputs": []
    },
    {
      "cell_type": "code",
      "source": [
        "len(chunks)"
      ],
      "metadata": {
        "id": "TUzqzCcCM8bg"
      },
      "execution_count": null,
      "outputs": []
    },
    {
      "cell_type": "code",
      "source": [
        "for c in chunks:\n",
        "    print(c)\n",
        "    print(\"\\n\\n\" + \"-\"*80)"
      ],
      "metadata": {
        "id": "A5ror6ejM-IC"
      },
      "execution_count": null,
      "outputs": []
    },
    {
      "cell_type": "code",
      "source": [
        "c0 = (chunks[0]).to_dict()\n",
        "c0"
      ],
      "metadata": {
        "id": "lM5KZwHPWSP5"
      },
      "execution_count": null,
      "outputs": []
    },
    {
      "cell_type": "code",
      "source": [
        "c0.keys()"
      ],
      "metadata": {
        "id": "JHpGKjAHXHFj"
      },
      "execution_count": null,
      "outputs": []
    },
    {
      "cell_type": "code",
      "source": [
        "c0[\"metadata\"].keys()"
      ],
      "metadata": {
        "id": "FKHa-rI0X5LS"
      },
      "execution_count": null,
      "outputs": []
    },
    {
      "cell_type": "code",
      "source": [
        "c0[\"metadata\"][\"orig_elements\"]"
      ],
      "metadata": {
        "id": "19_KSidZX7m1"
      },
      "execution_count": null,
      "outputs": []
    },
    {
      "cell_type": "code",
      "source": [
        "{chunks[0].metadata.page_number for e in chunks[0].metadata.orig_elements}"
      ],
      "metadata": {
        "id": "at5arYLhYJMk"
      },
      "execution_count": null,
      "outputs": []
    },
    {
      "cell_type": "code",
      "source": [
        "chunks[0].metadata.orig_elements"
      ],
      "metadata": {
        "id": "KQTUrVa7Yl29"
      },
      "execution_count": null,
      "outputs": []
    },
    {
      "cell_type": "markdown",
      "source": [
        "## Tables Extraction"
      ],
      "metadata": {
        "id": "8frcucLbiMNy"
      }
    },
    {
      "cell_type": "code",
      "source": [
        "fname = \"/content/THINKZ schedule of work.pdf\"\n",
        "\n",
        "elements = partition_pdf(filename=fname,\n",
        "                         infer_table_structure=True,\n",
        "                         strategy='hi_res', # https://docs.unstructured.io/open-source/concepts/partitioning-strategies\n",
        "                         hi_res_model_name=\"yolox_quantized\" # https://docs.unstructured.io/open-source/concepts/models - yolox, yolox_quantized, detectron2_onnx\n",
        "           )\n",
        "\n",
        "tables = [el for el in elements if el.category == \"Table\"]"
      ],
      "metadata": {
        "id": "yHZUjbJdbMHi"
      },
      "execution_count": null,
      "outputs": []
    },
    {
      "cell_type": "code",
      "source": [
        "print(tables[0].text)\n",
        "print(\"\\n\"*2, \"*\"*12, \"\\n\"*2)\n",
        "print(tables[0].metadata.text_as_html)"
      ],
      "metadata": {
        "colab": {
          "base_uri": "https://localhost:8080/"
        },
        "id": "7b1LubsBd8sR",
        "outputId": "c55aecf2-4fb8-4417-c8b4-9312a317fb55"
      },
      "execution_count": null,
      "outputs": [
        {
          "output_type": "stream",
          "name": "stdout",
          "text": [
            "Description of Works Et | Preliminaries 1.1. | Allow for Preliminaries, insurance, design services, $8200.00 protection and temporary support to the surrounding properties, remove debris off site, staging, repairing, make good to works disturbed, haulage and clearing of debris and clean up upon completion etc. | 2 | Statutory Obligations Engage Qualified Persons (QP) for Architecture and M&E $12,000.00 works to assess the proposed works and endorse on the drawings before proceeding with the works on site. The QP shall to carry out all necessary authorities’ submissions for approvals. This shall also include the submission fees, appointment of the Registered Inspectors (RI) for Architecture and M&E works and the RI fees for obtaining the Fire Safety Certificate for the works.\n",
            "\n",
            "\n",
            " ************ \n",
            "\n",
            "\n",
            "<table><thead><th>Preliminaries</th><th></th></thead><tr><td>Allow for Preliminaries, insurance, design services, protection and temporary support to the surrounding properties, remove debris off site, staging, repairing, make good to works disturbed, haulage and clearing of debris and clean up upon completion etc.</td><td>$8200.00</td></tr><tr><td>Engage Qualified Persons (QP) for Architecture and M&amp;E works to assess the proposed works and endorse on the drawings before proceeding with the works on site. The QP shall to carry out all necessary authorities’ submissions for approvals. This shall also include the submission fees, appointment of the Registered Inspectors (RI) for Architecture and M&amp;E works and the RI fees for obtaining</td><td>$12,000.00</td></tr></table>\n"
          ]
        }
      ]
    },
    {
      "cell_type": "code",
      "source": [
        "from IPython.core.display import display, HTML\n",
        "display(HTML(tables[0].metadata.text_as_html))"
      ],
      "metadata": {
        "colab": {
          "base_uri": "https://localhost:8080/",
          "height": 97
        },
        "id": "nW8PTEO-Gz6j",
        "outputId": "bbf59f1e-c690-4da4-8be1-900bee3a717c"
      },
      "execution_count": null,
      "outputs": [
        {
          "output_type": "display_data",
          "data": {
            "text/plain": [
              "<IPython.core.display.HTML object>"
            ],
            "text/html": [
              "<table><thead><th>Preliminaries</th><th></th></thead><tr><td>Allow for Preliminaries, insurance, design services, protection and temporary support to the surrounding properties, remove debris off site, staging, repairing, make good to works disturbed, haulage and clearing of debris and clean up upon completion etc.</td><td>$8200.00</td></tr><tr><td>Engage Qualified Persons (QP) for Architecture and M&amp;E works to assess the proposed works and endorse on the drawings before proceeding with the works on site. The QP shall to carry out all necessary authorities’ submissions for approvals. This shall also include the submission fees, appointment of the Registered Inspectors (RI) for Architecture and M&amp;E works and the RI fees for obtaining</td><td>$12,000.00</td></tr></table>"
            ]
          },
          "metadata": {}
        }
      ]
    },
    {
      "cell_type": "code",
      "source": [
        "for table in tables:\n",
        "  display(HTML(table.metadata.text_as_html))\n",
        "  print(\"\\n\"*2, \"*\"*100, \"\\n\"*2)"
      ],
      "metadata": {
        "colab": {
          "base_uri": "https://localhost:8080/",
          "height": 1000
        },
        "id": "rt5pyuM2HAHj",
        "outputId": "3b5d7c11-8cd7-4d8c-9e73-ef2367551f74",
        "collapsed": true
      },
      "execution_count": null,
      "outputs": [
        {
          "output_type": "display_data",
          "data": {
            "text/plain": [
              "<IPython.core.display.HTML object>"
            ],
            "text/html": [
              "<table><thead><th>Preliminaries</th><th></th></thead><tr><td>Allow for Preliminaries, insurance, design services, protection and temporary support to the surrounding properties, remove debris off site, staging, repairing, make good to works disturbed, haulage and clearing of debris and clean up upon completion etc.</td><td>$8200.00</td></tr><tr><td>Engage Qualified Persons (QP) for Architecture and M&amp;E works to assess the proposed works and endorse on the drawings before proceeding with the works on site. The QP shall to carry out all necessary authorities’ submissions for approvals. This shall also include the submission fees, appointment of the Registered Inspectors (RI) for Architecture and M&amp;E works and the RI fees for obtaining</td><td>$12,000.00</td></tr></table>"
            ]
          },
          "metadata": {}
        },
        {
          "output_type": "stream",
          "name": "stdout",
          "text": [
            "\n",
            "\n",
            " **************************************************************************************************** \n",
            "\n",
            "\n"
          ]
        },
        {
          "output_type": "display_data",
          "data": {
            "text/plain": [
              "<IPython.core.display.HTML object>"
            ],
            "text/html": [
              "<table><thead><th>Statutory Obligations</th><th></th></thead><tr><td>Engage Licensed Electrical Worker (LEW) to ensure the sufficient electrical loading and exercise proper wiring management (labeling of switches, power points etc). This shall include endorsement of drawings, single-line drawing fee and LEW fee, etc. The Contractor shall liaise with ITE’s LEW, Mr Richard Nyap at mobile 9633 3633 to comply with the authorities’ requirements.</td><td>$3000.00</td></tr><tr><td>Engage Licensed Water Service Plumber (LWSP) to carry out any water service/sanitary work and design any water service / sanitary installation and to ensure the work shall comply with the authorities’ requirements.</td><td></td></tr><tr><td>Builder’s Work</td><td></td></tr><tr><td>PE Indoor Lab Flooring</td><td></td></tr><tr><td>a. Floor screeding as specified</td><td>$14300.00</td></tr><tr><td>b. Gym Lab Flooring as specified</td><td>$22,300.00</td></tr></table>"
            ]
          },
          "metadata": {}
        },
        {
          "output_type": "stream",
          "name": "stdout",
          "text": [
            "\n",
            "\n",
            " **************************************************************************************************** \n",
            "\n",
            "\n"
          ]
        },
        {
          "output_type": "display_data",
          "data": {
            "text/plain": [
              "<IPython.core.display.HTML object>"
            ],
            "text/html": [
              "<table><thead><th>PE Indoor Lab - Walls, Doors, Windows, Mirror &amp; Others</th><th></th></thead><tr><td>a. Design, supply and installation of framed double-leaf tempered clear swing glass door to replace the existing motorized sliding door. The door shall be provided with mechanical lock and EM lock which shall be link to existing card access system. Key and lock provided shall be of master key system as specified. Fixed type of tempered glass shall be used for the space between door and the ceiling.</td><td>$12,135.00</td></tr><tr><td>b. To provide sound attenuate material to fill up the existing gap between the glass wall (above ceiling space) and the soffit.</td><td>$3900.00</td></tr><tr><td>c. To supply and install Mirror of 7m(L) x 2.4m(H) as specified and all the necessary support and accessories at wall as indicated in sketch 001</td><td>$4130.00</td></tr><tr><td>d. To supply and install timber skirting around all walls as specified in Sketch 001</td><td>$9457.50</td></tr><tr><td>f . To supply and installation of new acoustic ceiling board as specified</td><td>$19,540.00</td></tr><tr><td>g. Signages for the PE Indoor Lab To design and supply entrance signage with 3D letterings and artwork complete with all necessary fixing accessories. —__|</td><td>$_1200</td></tr><tr><td>h. Feature wall for the PE Indoor Lab To design and supply wall and door (main entrance) decal (fitness related design) with graphics to the existing wall as indicated in Sketch 001. It shall complete with all necessary fixing accessories.</td><td>$10,000.00</td></tr><tr><td>i. Painting Painting of exposed M&amp;E services, exposed wails, structural columns and soffit as specified.</td><td>$9000.00</td></tr></table>"
            ]
          },
          "metadata": {}
        },
        {
          "output_type": "stream",
          "name": "stdout",
          "text": [
            "\n",
            "\n",
            " **************************************************************************************************** \n",
            "\n",
            "\n"
          ]
        },
        {
          "output_type": "display_data",
          "data": {
            "text/plain": [
              "<IPython.core.display.HTML object>"
            ],
            "text/html": [
              "<table><thead><th>k. To supply and install new solar film as specified on windows as indicated in Sketch 001</th><th>$4160.00</th></thead><tr><td>|. To supply and install new manually operated roller blind as specified at the location as indicated in Sketch 001</td><td>$6549.00</td></tr><tr><td>m. To design, supply and install the 4 numbers of 3 metre height x 2 metre width wall mounted wooden ladder as specified in Sketch 001</td><td>$7200.00</td></tr><tr><td>n. To design and supply one number of storage shelf and indicated in Sketch 002</td><td>$1250.00</td></tr><tr><td>Mechanical and Electrical Works</td><td></td></tr><tr><td>Design, Supply and Installation of Fire Protection and Detection Services The work shall include design, supply, testing and commissioning of the additional and modification of the fire protection and detection systems to comply with the latest building/fire codes including but not limited to the sprinklers, hose reel, extinguishers and all associated piping and accessories. The work shall include hydraulic pressure testing of the modified/additional sprinkler system, protection to existing services during the installation works, dismantling of existing sprinkler points, draining off, interfacing with the existing sprinkler system and all necessary ancillaries and accessories. All addition and alteration works are to be indicated in the as-built drawing and with PE’s endorsement.</td><td>$19,500.00</td></tr><tr><td>The Contractor is required to engage ITE’s Fire Protection Term Contractor, JKeart Alliances Pte Ltd, Mr Jeffrey Lim at</td><td></td></tr></table>"
            ]
          },
          "metadata": {}
        },
        {
          "output_type": "stream",
          "name": "stdout",
          "text": [
            "\n",
            "\n",
            " **************************************************************************************************** \n",
            "\n",
            "\n"
          ]
        },
        {
          "output_type": "display_data",
          "data": {
            "text/plain": [
              "<IPython.core.display.HTML object>"
            ],
            "text/html": [
              "<table><tr><td>Design, Supply and Installation of Air-conditioning and Mechanical Ventilation System to meet the needs of Fitness Gym &amp; Human Performance Lab</td><td>$57,600.00</td></tr><tr><td>The work shall consist of design, supply testing and commissioning of the additional work as described herewith. To design the proposed works and PE to endorse on the drawings before proceeding with the works on site. Addition, modification and relocation of air con rigid and flexible ducts, supply air diffusers, returned air grilles, VAV Boxes (includes thermostat to each VAV box) and all the necessary control cabling work and power supply points for the VAV boxes. The Contractor is required to engage a Building Management System (BMS) Contractor to coordinate with the ITE’s IBMS and ACMV Term Contractor, Johnson Controls (S) Pte Ltd and DTZ Facilities &amp; Engineering (S) Limited on the connection to the existing BMS and air con balancing. The work shall include updating of the ACMV control and graphic at BMS. The quantity of the VAV boxes and supply air diffuser shall be equal or more than the amount shown in the Sketch 003.</td><td></td></tr><tr><td>All addition and alteration works are to be indicated in the as-built drawing and with PE’s endorsement.</td><td></td></tr><tr><td>Electrical Services — Lightings, Power Points and Emergency Lights</td><td>$21,300.00</td></tr><tr><td>The work shall consist of assessment of the existing systems and design the proposed works and endorse on the drawings before proceeding with the works on site. Final sub-circuits from distribution boards to final socket outlets, isolator, equipments including modification of distribution boards (in the event that the existing DB is insufficient) and upgrading of main circuit breakers (where necessary) and all necessary ancillaries and accessories. The Contractor shall connect all new cabling and ancillaries to the sub-boards located at the riser.</td><td></td></tr></table>"
            ]
          },
          "metadata": {}
        },
        {
          "output_type": "stream",
          "name": "stdout",
          "text": [
            "\n",
            "\n",
            " **************************************************************************************************** \n",
            "\n",
            "\n"
          ]
        },
        {
          "output_type": "display_data",
          "data": {
            "text/plain": [
              "<IPython.core.display.HTML object>"
            ],
            "text/html": [
              "<table><tr><td></td><td>To design and supply LED lighting for the PE Indoor Lab. The design luminaries shall comply with the specification. Each circuit shall incorporate with dimmer (minimum 2 circuits). Final sub- circuit for lighting from distribution boards to and including lighting points complete with timer control, light switches, light fittings and earth continuity conductors, including all necessary ancillaries and accessories. The Contractor shall connect all new cabling and ancillaries to the sub-boards located at the riser.</td><td>$2400.00</td></tr><tr><td></td><td>The lighting design within the space shall not exceed 11W/m2 to meet Green Mark requirement without compromising the lux level as stipulated in the prevailing Code of Practice.</td><td></td></tr><tr><td></td><td>All light fitting fixtures shall be of LED type as specified and of ceiling flush type.</td><td></td></tr><tr><td></td><td>To supply AV patch panel as specified in Sketch 002</td><td>$800.00</td></tr><tr><td></td><td>Coordination with ITE’s direct contractor on the installation of LAN points where necessary.</td><td>$2400.00</td></tr><tr><td rowspan=\"3\"></td><td>Integrated Building Management System</td><td>$3600.00</td></tr><tr><td></td><td>Access control system complete with reader, exit release button, EM lock, door contact sensor, controller, cabling and including of programming, testing and commissioning. The system shall be able to support the CEPAS contactless smart card and linked to the fire alarm system in compliance with the Fire Code.</td><td></td></tr><tr><td></td><td>The Contractor may wish to engage ITE’s IBMS Term Contractor, Johnson Controls (S) Pte Ltd, Mr Jonathan Lim = at Jonathan.Lim @jci.com .</td><td></td></tr><tr><td>6 |</td><td>Any Other Items</td><td></td></tr><tr><td>6.1</td><td>Any other items, please specify. If this section is left unpriced. it shall be deemed that any other works have been included_and</td><td></td></tr></table>"
            ]
          },
          "metadata": {}
        },
        {
          "output_type": "stream",
          "name": "stdout",
          "text": [
            "\n",
            "\n",
            " **************************************************************************************************** \n",
            "\n",
            "\n"
          ]
        }
      ]
    },
    {
      "cell_type": "code",
      "source": [
        "def extract_tables(fname = \"/content/THINKZ schedule of work.pdf\", model_name = \"yolox_quantized\", show = True):\n",
        "  elements = partition_pdf(filename=fname,\n",
        "                           url=None,\n",
        "                         infer_table_structure=True,\n",
        "                         strategy='hi_res', # https://docs.unstructured.io/open-source/concepts/partitioning-strategies\n",
        "                         hi_res_model_name=model_name # https://docs.unstructured.io/open-source/concepts/models - yolox, yolox_quantized, detectron2_onnx\n",
        "           )\n",
        "\n",
        "  tables = [el for el in elements if el.category == \"Table\"]\n",
        "  for table in tables:\n",
        "    if show:\n",
        "      display(HTML(table.metadata.text_as_html))\n",
        "      print(\"\\n\"*2, \"*\"*100, \"\\n\"*2)\n",
        "  return tables"
      ],
      "metadata": {
        "id": "of_Gqs8dItm8"
      },
      "execution_count": null,
      "outputs": []
    },
    {
      "cell_type": "code",
      "source": [
        "_ = extract_tables(model_name=\"yolox_quantized\")"
      ],
      "metadata": {
        "colab": {
          "base_uri": "https://localhost:8080/",
          "height": 1000
        },
        "id": "At9wqnfbN_-q",
        "outputId": "b4919239-423c-4c91-d9fe-ce94ed971a1f",
        "collapsed": true
      },
      "execution_count": null,
      "outputs": [
        {
          "output_type": "display_data",
          "data": {
            "text/plain": [
              "<IPython.core.display.HTML object>"
            ],
            "text/html": [
              "<table><thead><th>Preliminaries</th><th></th></thead><tr><td>Allow for Preliminaries, insurance, design services, protection and temporary support to the surrounding properties, remove debris off site, staging, repairing, make good to works disturbed, haulage and clearing of debris and clean up upon completion etc.</td><td>$8200.00</td></tr><tr><td>Engage Qualified Persons (QP) for Architecture and M&amp;E works to assess the proposed works and endorse on the drawings before proceeding with the works on site. The QP shall to carry out all necessary authorities’ submissions for approvals. This shall also include the submission fees, appointment of the Registered Inspectors (RI) for Architecture and M&amp;E works and the RI fees for obtaining</td><td>$12,000.00</td></tr></table>"
            ]
          },
          "metadata": {}
        },
        {
          "output_type": "stream",
          "name": "stdout",
          "text": [
            "\n",
            "\n",
            " **************************************************************************************************** \n",
            "\n",
            "\n"
          ]
        },
        {
          "output_type": "display_data",
          "data": {
            "text/plain": [
              "<IPython.core.display.HTML object>"
            ],
            "text/html": [
              "<table><thead><th>Statutory Obligations</th><th></th></thead><tr><td>Engage Licensed Electrical Worker (LEW) to ensure the sufficient electrical loading and exercise proper wiring management (labeling of switches, power points etc). This shall include endorsement of drawings, single-line drawing fee and LEW fee, etc. The Contractor shall liaise with ITE’s LEW, Mr Richard Nyap at mobile 9633 3633 to comply with the authorities’ requirements.</td><td>$3000.00</td></tr><tr><td>Engage Licensed Water Service Plumber (LWSP) to carry out any water service/sanitary work and design any water service / sanitary installation and to ensure the work shall comply with the authorities’ requirements.</td><td></td></tr><tr><td>Builder’s Work</td><td></td></tr><tr><td>PE Indoor Lab Flooring</td><td></td></tr><tr><td>a. Floor screeding as specified</td><td>$14300.00</td></tr><tr><td>b. Gym Lab Flooring as specified</td><td>$22,300.00</td></tr></table>"
            ]
          },
          "metadata": {}
        },
        {
          "output_type": "stream",
          "name": "stdout",
          "text": [
            "\n",
            "\n",
            " **************************************************************************************************** \n",
            "\n",
            "\n"
          ]
        },
        {
          "output_type": "display_data",
          "data": {
            "text/plain": [
              "<IPython.core.display.HTML object>"
            ],
            "text/html": [
              "<table><thead><th>PE Indoor Lab - Walls, Doors, Windows, Mirror &amp; Others</th><th></th></thead><tr><td>a. Design, supply and installation of framed double-leaf tempered clear swing glass door to replace the existing motorized sliding door. The door shall be provided with mechanical lock and EM lock which shall be link to existing card access system. Key and lock provided shall be of master key system as specified. Fixed type of tempered glass shall be used for the space between door and the ceiling.</td><td>$12,135.00</td></tr><tr><td>b. To provide sound attenuate material to fill up the existing gap between the glass wall (above ceiling space) and the soffit.</td><td>$3900.00</td></tr><tr><td>c. To supply and install Mirror of 7m(L) x 2.4m(H) as specified and all the necessary support and accessories at wall as indicated in sketch 001</td><td>$4130.00</td></tr><tr><td>d. To supply and install timber skirting around all walls as specified in Sketch 001</td><td>$9457.50</td></tr><tr><td>f . To supply and installation of new acoustic ceiling board as specified</td><td>$19,540.00</td></tr><tr><td>g. Signages for the PE Indoor Lab To design and supply entrance signage with 3D letterings and artwork complete with all necessary fixing accessories. —__|</td><td>$_1200</td></tr><tr><td>h. Feature wall for the PE Indoor Lab To design and supply wall and door (main entrance) decal (fitness related design) with graphics to the existing wall as indicated in Sketch 001. It shall complete with all necessary fixing accessories.</td><td>$10,000.00</td></tr><tr><td>i. Painting Painting of exposed M&amp;E services, exposed wails, structural columns and soffit as specified.</td><td>$9000.00</td></tr></table>"
            ]
          },
          "metadata": {}
        },
        {
          "output_type": "stream",
          "name": "stdout",
          "text": [
            "\n",
            "\n",
            " **************************************************************************************************** \n",
            "\n",
            "\n"
          ]
        },
        {
          "output_type": "display_data",
          "data": {
            "text/plain": [
              "<IPython.core.display.HTML object>"
            ],
            "text/html": [
              "<table><thead><th>k. To supply and install new solar film as specified on windows as indicated in Sketch 001</th><th>$4160.00</th></thead><tr><td>|. To supply and install new manually operated roller blind as specified at the location as indicated in Sketch 001</td><td>$6549.00</td></tr><tr><td>m. To design, supply and install the 4 numbers of 3 metre height x 2 metre width wall mounted wooden ladder as specified in Sketch 001</td><td>$7200.00</td></tr><tr><td>n. To design and supply one number of storage shelf and indicated in Sketch 002</td><td>$1250.00</td></tr><tr><td>Mechanical and Electrical Works</td><td></td></tr><tr><td>Design, Supply and Installation of Fire Protection and Detection Services The work shall include design, supply, testing and commissioning of the additional and modification of the fire protection and detection systems to comply with the latest building/fire codes including but not limited to the sprinklers, hose reel, extinguishers and all associated piping and accessories. The work shall include hydraulic pressure testing of the modified/additional sprinkler system, protection to existing services during the installation works, dismantling of existing sprinkler points, draining off, interfacing with the existing sprinkler system and all necessary ancillaries and accessories. All addition and alteration works are to be indicated in the as-built drawing and with PE’s endorsement.</td><td>$19,500.00</td></tr><tr><td>The Contractor is required to engage ITE’s Fire Protection Term Contractor, JKeart Alliances Pte Ltd, Mr Jeffrey Lim at</td><td></td></tr></table>"
            ]
          },
          "metadata": {}
        },
        {
          "output_type": "stream",
          "name": "stdout",
          "text": [
            "\n",
            "\n",
            " **************************************************************************************************** \n",
            "\n",
            "\n"
          ]
        },
        {
          "output_type": "display_data",
          "data": {
            "text/plain": [
              "<IPython.core.display.HTML object>"
            ],
            "text/html": [
              "<table><tr><td>Design, Supply and Installation of Air-conditioning and Mechanical Ventilation System to meet the needs of Fitness Gym &amp; Human Performance Lab</td><td>$57,600.00</td></tr><tr><td>The work shall consist of design, supply testing and commissioning of the additional work as described herewith. To design the proposed works and PE to endorse on the drawings before proceeding with the works on site. Addition, modification and relocation of air con rigid and flexible ducts, supply air diffusers, returned air grilles, VAV Boxes (includes thermostat to each VAV box) and all the necessary control cabling work and power supply points for the VAV boxes. The Contractor is required to engage a Building Management System (BMS) Contractor to coordinate with the ITE’s IBMS and ACMV Term Contractor, Johnson Controls (S) Pte Ltd and DTZ Facilities &amp; Engineering (S) Limited on the connection to the existing BMS and air con balancing. The work shall include updating of the ACMV control and graphic at BMS. The quantity of the VAV boxes and supply air diffuser shall be equal or more than the amount shown in the Sketch 003.</td><td></td></tr><tr><td>All addition and alteration works are to be indicated in the as-built drawing and with PE’s endorsement.</td><td></td></tr><tr><td>Electrical Services — Lightings, Power Points and Emergency Lights</td><td>$21,300.00</td></tr><tr><td>The work shall consist of assessment of the existing systems and design the proposed works and endorse on the drawings before proceeding with the works on site. Final sub-circuits from distribution boards to final socket outlets, isolator, equipments including modification of distribution boards (in the event that the existing DB is insufficient) and upgrading of main circuit breakers (where necessary) and all necessary ancillaries and accessories. The Contractor shall connect all new cabling and ancillaries to the sub-boards located at the riser.</td><td></td></tr></table>"
            ]
          },
          "metadata": {}
        },
        {
          "output_type": "stream",
          "name": "stdout",
          "text": [
            "\n",
            "\n",
            " **************************************************************************************************** \n",
            "\n",
            "\n"
          ]
        },
        {
          "output_type": "display_data",
          "data": {
            "text/plain": [
              "<IPython.core.display.HTML object>"
            ],
            "text/html": [
              "<table><tr><td></td><td>To design and supply LED lighting for the PE Indoor Lab. The design luminaries shall comply with the specification. Each circuit shall incorporate with dimmer (minimum 2 circuits). Final sub- circuit for lighting from distribution boards to and including lighting points complete with timer control, light switches, light fittings and earth continuity conductors, including all necessary ancillaries and accessories. The Contractor shall connect all new cabling and ancillaries to the sub-boards located at the riser.</td><td>$2400.00</td></tr><tr><td></td><td>The lighting design within the space shall not exceed 11W/m2 to meet Green Mark requirement without compromising the lux level as stipulated in the prevailing Code of Practice.</td><td></td></tr><tr><td></td><td>All light fitting fixtures shall be of LED type as specified and of ceiling flush type.</td><td></td></tr><tr><td></td><td>To supply AV patch panel as specified in Sketch 002</td><td>$800.00</td></tr><tr><td></td><td>Coordination with ITE’s direct contractor on the installation of LAN points where necessary.</td><td>$2400.00</td></tr><tr><td rowspan=\"3\"></td><td>Integrated Building Management System</td><td>$3600.00</td></tr><tr><td></td><td>Access control system complete with reader, exit release button, EM lock, door contact sensor, controller, cabling and including of programming, testing and commissioning. The system shall be able to support the CEPAS contactless smart card and linked to the fire alarm system in compliance with the Fire Code.</td><td></td></tr><tr><td></td><td>The Contractor may wish to engage ITE’s IBMS Term Contractor, Johnson Controls (S) Pte Ltd, Mr Jonathan Lim = at Jonathan.Lim @jci.com .</td><td></td></tr><tr><td>6 |</td><td>Any Other Items</td><td></td></tr><tr><td>6.1</td><td>Any other items, please specify. If this section is left unpriced. it shall be deemed that any other works have been included_and</td><td></td></tr></table>"
            ]
          },
          "metadata": {}
        },
        {
          "output_type": "stream",
          "name": "stdout",
          "text": [
            "\n",
            "\n",
            " **************************************************************************************************** \n",
            "\n",
            "\n"
          ]
        }
      ]
    },
    {
      "cell_type": "code",
      "source": [
        "_ = extract_tables(model_name=\"yolox\")"
      ],
      "metadata": {
        "colab": {
          "base_uri": "https://localhost:8080/",
          "height": 1000,
          "referenced_widgets": [
            "f8481c54bfc24a668456f72cea734181",
            "41ea2c2dfa9a419e869e5331d5fc6525",
            "8d79afdfc0f2497087fb063d8219ec49",
            "84ef0788d3b74f9fba7556bc7b47facf",
            "10ac82e7758244799ea26345943415f3",
            "d15860781efa482f89ca3e9ff3eba39b",
            "647fdf510c424b2aa9d3ecf7042b106c",
            "7888d702a8a049659d06377fd49f2a3b",
            "f2273b9d2de24aebab73ce0b415eb52d",
            "ab953caba1b54983b61c75a423f167b3",
            "3d64913c9cb744f0a70e04a8cf08a011"
          ]
        },
        "id": "3Fl72foMOE0R",
        "outputId": "5728ad6d-0815-4bf2-ecdd-95d22df60156",
        "collapsed": true
      },
      "execution_count": null,
      "outputs": [
        {
          "output_type": "display_data",
          "data": {
            "text/plain": [
              "yolox_l0.05.onnx:   0%|          | 0.00/217M [00:00<?, ?B/s]"
            ],
            "application/vnd.jupyter.widget-view+json": {
              "version_major": 2,
              "version_minor": 0,
              "model_id": "f8481c54bfc24a668456f72cea734181"
            }
          },
          "metadata": {}
        },
        {
          "output_type": "display_data",
          "data": {
            "text/plain": [
              "<IPython.core.display.HTML object>"
            ],
            "text/html": [
              "<table><thead><th>Description of Works</th><th></th></thead><tr><td>Preliminaries</td><td></td></tr><tr><td>Allow for Preliminaries, insurance, design services, protection and temporary support to the surrounding properties, remove debris off site, staging, repairing, make good to works disturbed, haulage and clearing of debris and clean up upon completion etc.</td><td>$8200.00</td></tr><tr><td>Engage Qualified Persons (QP) for Architecture and M&amp;E works to assess the proposed works and endorse on the drawings before proceeding with the works on site. The QP shall to carry out all necessary authorities’ submissions for approvals. This shall also include the submission fees, appointment of the Registered Inspectors (RI) for Architecture and M&amp;E works and the RI fees for obtaining the Fire Safety Certificate for the works.</td><td>$12,000.00</td></tr></table>"
            ]
          },
          "metadata": {}
        },
        {
          "output_type": "stream",
          "name": "stdout",
          "text": [
            "\n",
            "\n",
            " **************************************************************************************************** \n",
            "\n",
            "\n"
          ]
        },
        {
          "output_type": "display_data",
          "data": {
            "text/plain": [
              "<IPython.core.display.HTML object>"
            ],
            "text/html": [
              "<table><thead><th rowspan=\"2\">Item No.</th><th>Description of Works</th><th></th></thead><thead><th></th><th>Statutory Obligations</th><th></th></thead><tr><td>3.2</td><td>| Engage Licensed Electrical Worker (LEW) to ensure the sufficient electrical loading and exercise proper wiring management (labeling of switches, power points etc). This shall include endorsement of drawings, single-line drawing fee and LEW fee, etc. The Contractor shall liaise with ITE’s LEW, Mr Richard Nyap at mobile 9633 3633 to comply with the authorities’ requirements.</td><td>$3000.00</td></tr><tr><td></td><td>Engage Licensed Water Service Plumber (LWSP) to carry out any water service/sanitary work and design any water service / sanitary installation and to ensure the work shall comply with the authorities’ requirements.</td><td></td></tr><tr><td></td><td>Builder’s Work</td><td></td></tr><tr><td rowspan=\"4\"></td><td></td><td>PE Indoor Lab Flooring</td><td></td></tr><tr><td></td><td>a. Floor screeding as specified</td><td>$14300.00</td></tr><tr><td></td><td>b. Gym Lab Flooring as specified</td><td>$22,300.00</td></tr><tr><td>c. Ramp as indicated in Sketch 001</td><td>$1150.00</td></tr></table>"
            ]
          },
          "metadata": {}
        },
        {
          "output_type": "stream",
          "name": "stdout",
          "text": [
            "\n",
            "\n",
            " **************************************************************************************************** \n",
            "\n",
            "\n"
          ]
        },
        {
          "output_type": "display_data",
          "data": {
            "text/plain": [
              "<IPython.core.display.HTML object>"
            ],
            "text/html": [
              "<table><thead><th>Description of Works</th><th>Price</th></thead><tr><td colspan=\"2\">PE Indoor Lab - Walls, Doors, Windows, Mirror &amp; Others</td></tr><tr><td>a. Design, supply and installation of framed double-leaf tempered clear swing glass door to replace the existing motorized sliding door. The door shall be provided with mechanical lock and EM lock which shall be link to existing card access system. Key and lock provided shall be of master key system as specified. Fixed type of tempered glass shall be used for the space between door and the ceiling.</td><td>$12,135.00</td></tr><tr><td>b. To provide sound attenuate material to fill up the existing gap L between the glass wall (above ceiling space) and the soffit.</td><td>$3900.00</td></tr><tr><td>c. To supply and install Mirror of 7m(L) x 2.4m(H) as specified and all the necessary support and accessories at wall as indicated in sketch 001</td><td>$4130.00</td></tr><tr><td>2 To supply and install timber skirting around all walls as specified in Sketch 001</td><td>$9457.50</td></tr><tr><td>f . To supply and installation of new acoustic ceiling board as specified</td><td>$19,540.00</td></tr><tr><td>g. Signages for the PE Indoor Lab To design and supply entrance signage with 3D letterings and artwork complete with all necessary fixing accessories. La —</td><td>$_1200</td></tr><tr><td>h. Feature wall for the PE Indoor Lab To design and supply wall and door (main entrance) decal (fitness related design) with graphics to the existing wall as indicated in Sketch 001. It shall complete with all necessary fixing accessories.</td><td>$10,000.00</td></tr><tr><td>i. Painting Painting of exposed M&amp;E services, exposed wails, structural columns and soffit as specified.</td><td>$9000.00</td></tr><tr><td>j. Design, supply and installation of the 2 numbers of ceiling hung V- specified Sketch</td><td>$4500.00</td></tr></table>"
            ]
          },
          "metadata": {}
        },
        {
          "output_type": "stream",
          "name": "stdout",
          "text": [
            "\n",
            "\n",
            " **************************************************************************************************** \n",
            "\n",
            "\n"
          ]
        },
        {
          "output_type": "display_data",
          "data": {
            "text/plain": [
              "<IPython.core.display.HTML object>"
            ],
            "text/html": [
              "<table><thead><th>Item No.</th><th>Description of Works</th><th>Price</th></thead><tr><td></td><td>k. To supply and install new solar film as specified on windows as indicated in Sketch 001</td><td>$4160.00</td></tr><tr><td></td><td>|. To supply and install new manually operated roller blind as specified at the location as indicated in Sketch 001</td><td>$6549.00</td></tr><tr><td></td><td>m. To design, supply and install the 4 numbers of 3 metre height x 2 metre width wall mounted wooden ladder as specified in Sketch 001</td><td>$7200.00</td></tr><tr><td></td><td>n. To design and supply one number of storage shelf and indicated in Sketch 002</td><td>$1250.00</td></tr><tr><td colspan=\"3\">Mechanical and Electrical Works</td></tr><tr><td rowspan=\"4\">5.1</td><td></td><td>and Installation of Fire Protection and Detection</td><td></td></tr><tr><td></td><td>Design, Supply Services</td><td>$19,500.00</td></tr><tr><td>The work shall include design, supply, testing and commissioning of the additional and modification of the fire protection and detection systems to comply with the latest building/fire codes including but not limited to the sprinklers, hose reel, extinguishers and all associated piping and accessories. The work shall include hydraulic pressure testing of the modified/additional sprinkler system, protection to existing services during the installation works, dismantling of existing sprinkler points, draining off, interfacing with the existing sprinkler system and all necessary ancillaries and accessories. All addition and alteration works are to be indicated in the as-built drawing and with PE’s endorsement.</td><td></td></tr><tr><td></td><td>The Contractor is required to engage ITE’s Fire Protection Term Contractor, JKeart Alliances Pte Ltd, Mr Jeffrey Lim at sales1@jkeart.com for sprinkler drainage and interfacing with the main piping.</td><td></td></tr></table>"
            ]
          },
          "metadata": {}
        },
        {
          "output_type": "stream",
          "name": "stdout",
          "text": [
            "\n",
            "\n",
            " **************************************************************************************************** \n",
            "\n",
            "\n"
          ]
        },
        {
          "output_type": "display_data",
          "data": {
            "text/plain": [
              "<IPython.core.display.HTML object>"
            ],
            "text/html": [
              "<table><thead><th>Description of Works</th><th>Price</th></thead><tr><td>Design, Supply and Installation of Air-conditioning and Mechanical Ventilation System to meet the needs of Fitness Gym &amp; Human Performance Lab</td><td>$57,600.00</td></tr><tr><td>The work shall consist of design, supply testing and commissioning of the additional work as described herewith. To design the proposed works and PE to endorse on the drawings before proceeding with the works on site. Addition, modification and relocation of air con rigid and flexible ducts, supply air diffusers, returned air grilles, VAV Boxes (includes thermostat to each VAV box) and all the necessary control cabling work and power supply points for the VAV boxes. The Contractor is required to engage a Building Management System (BMS) Contractor to coordinate with the ITE’s IBMS and ACMV Term Contractor, Johnson Controls (S) Pte Ltd and DTZ Facilities &amp; Engineering (S) Limited on the connection to the existing BMS and air con balancing. The work shall include updating of the ACMV control and graphic at BMS. The quantity of the VAV boxes and supply air diffuser shall be equal or more than the amount shown in the Sketch 003.</td><td></td></tr><tr><td>All addition and alteration works are to be indicated in the as-built drawing and with PE’s endorsement.</td><td></td></tr><tr><td>Electrical Services — Lightings, Power Points and Emergency Lights</td><td>$21,300.00</td></tr><tr><td>The work shall consist of assessment of the existing systems and design the proposed works and endorse on the drawings before proceeding with the works on site. Final sub-circuits from distribution boards to final socket outlets, isolator, equipments including modification of distribution boards (in the event that the existing DB is insufficient) and upgrading of main circuit breakers (where necessary) and all necessary ancillaries and accessories. The Contractor shall connect all new cabling and ancillaries to the sub-boards located at the riser.</td><td></td></tr><tr><td>To design and supply the numbers of 138amp twin switch socket</td><td>$2640.00</td></tr></table>"
            ]
          },
          "metadata": {}
        },
        {
          "output_type": "stream",
          "name": "stdout",
          "text": [
            "\n",
            "\n",
            " **************************************************************************************************** \n",
            "\n",
            "\n"
          ]
        },
        {
          "output_type": "display_data",
          "data": {
            "text/plain": [
              "<IPython.core.display.HTML object>"
            ],
            "text/html": [
              "<table><thead><th></th><th>Description of Works</th><th>Price</th></thead><tr><td rowspan=\"3\"></td><td>To design and supply LED lighting for the PE Indoor Lab. The design luminaries shall comply with the specification. Each circuit shall incorporate with dimmer (minimum 2 circuits). Final sub- circuit for lighting from distribution boards to and including lighting points complete with timer control, light switches, light fittings and earth continuity conductors, including all necessary ancillaries and accessories. The Contractor shall connect all new cabling and ancillaries to the sub-boards located at the riser.</td><td>$2400.00</td></tr><tr><td></td><td>The lighting design within the space shall not exceed 11W/m2 to meet Green Mark requirement without compromising the lux level as stipulated in the prevailing Code of Practice.</td><td></td></tr><tr><td></td><td>All light fitting fixtures shall be of LED type as specified and of ceiling flush type.</td><td></td></tr><tr><td></td><td>To supply AV patch panel as specified in Sketch 002</td><td>$800.00</td></tr><tr><td rowspan=\"3\"></td><td>Coordination with ITE’s direct contractor on the installation of LAN points where necessary.</td><td>$2400.00</td></tr><tr><td></td><td>Integrated Building Management System Access control system complete with reader, exit release button, EM lock, door contact sensor, controller, cabling and including of programming, testing and commissioning. The system shall be able to support the CEPAS contactless smart card and linked to the fire alarm system in compliance with the Fire Code.</td><td>$3600.00</td></tr><tr><td></td><td>The Contractor may wish to engage ITE’s IBMS Term Contractor, Johnson Controls (S) Pte Ltd, Mr Jonathan Lim = at Jonathan.Lim @jci.com .</td><td></td></tr><tr><td>6 |</td><td>Any Other Items</td><td></td></tr><tr><td></td><td>Any other items, please specify. If this section is left_unpriced, it shall be deemed that any other works have been included and allowed for in the Tender Price.</td><td></td></tr></table>"
            ]
          },
          "metadata": {}
        },
        {
          "output_type": "stream",
          "name": "stdout",
          "text": [
            "\n",
            "\n",
            " **************************************************************************************************** \n",
            "\n",
            "\n"
          ]
        }
      ]
    },
    {
      "cell_type": "code",
      "source": [
        "_ = extract_tables(model_name=\"detectron2_onnx\")"
      ],
      "metadata": {
        "colab": {
          "base_uri": "https://localhost:8080/",
          "height": 49,
          "referenced_widgets": [
            "f38de17e633d4d5ab5169fddb924decb",
            "30eb61b1139c4a44adfd31a30f326719",
            "2d21706185f04ce6b1a8cab3e87106b2",
            "e5b62609e1c549d0997c99b2aeb3694d",
            "a8ee9b84bf2342388676bf04b4c35b56",
            "581d3798162347fb961620bbd1fd7fca",
            "4ef7d4d0141e4a998311039375161f4b",
            "e009aee67ef4472ea4e863ea227a9c67",
            "f0ff005ea16f45acb2b6c90d8b16d8ef",
            "89511ed447814b0d9e4443f82a615a74",
            "65c0d87ca707466283942dfd6385deda"
          ]
        },
        "id": "Qx0Bdzf-OGkA",
        "outputId": "a253f0f8-3990-4bd1-a2be-c736c1083869"
      },
      "execution_count": null,
      "outputs": [
        {
          "output_type": "display_data",
          "data": {
            "text/plain": [
              "model.onnx:   0%|          | 0.00/166M [00:00<?, ?B/s]"
            ],
            "application/vnd.jupyter.widget-view+json": {
              "version_major": 2,
              "version_minor": 0,
              "model_id": "f38de17e633d4d5ab5169fddb924decb"
            }
          },
          "metadata": {}
        }
      ]
    },
    {
      "cell_type": "code",
      "source": [
        "tbls = extract_tables(fname=\"/content/YM 5b Part4a CT Schedule Of Works (Option Contract).pdf\", model_name=\"yolox_quantized\")"
      ],
      "metadata": {
        "colab": {
          "base_uri": "https://localhost:8080/",
          "height": 1000
        },
        "id": "6El8lMlxOIVy",
        "outputId": "3a47c6d7-096d-49b4-b7ce-b980d7ccb8ea",
        "collapsed": true
      },
      "execution_count": null,
      "outputs": [
        {
          "output_type": "display_data",
          "data": {
            "text/plain": [
              "<IPython.core.display.HTML object>"
            ],
            "text/html": [
              "<table><thead><th>Preliminaries</th></thead><tr><td>Allow for Preliminaries, insurance, design services, protection and temporary support to the surrounding properties, remove debris off site, staging, repairing, make good to works disturbed, haulage and clearing of debris and clean up upon completion etc.</td></tr><tr><td>Statutory Obligations</td></tr><tr><td>Engage Qualified Persons (QP) for Architecture and M&amp;E works to assess the proposed works and endorse on the drawings before proceeding with the works on site. The QP shall to carry out all necessary authorities’ submissions for approvals. This shall also include the submission fees, appointment of the Registered Inspectors (RI) for Architecture and M&amp;E works and the RI fees for obtaining</td></tr></table>"
            ]
          },
          "metadata": {}
        },
        {
          "output_type": "stream",
          "name": "stdout",
          "text": [
            "\n",
            "\n",
            " **************************************************************************************************** \n",
            "\n",
            "\n"
          ]
        },
        {
          "output_type": "display_data",
          "data": {
            "text/plain": [
              "<IPython.core.display.HTML object>"
            ],
            "text/html": [
              "<table><thead><th>Statutory Obligations</th></thead><tr><td>Engage Licensed Electrical Worker (LEW) to ensure the sufficient electrical loading and exercise proper wiring management (labeling of switches, power points etc). This shall include endorsement of drawings, single-line drawing fee and LEW fee, etc. The Contractor shall liaise with ITE’s LEW, Mr Richard Nyap at mobile 9633 3633 to comply with the authorities’ requirements.</td></tr><tr><td>Engage Licensed Water Service Plumber (LWSP) to carry out any water service/sanitary work and design any water service / authorities’ requirements.</td></tr><tr><td>Builder’s Work</td></tr><tr><td>PE Indoor Lab Flooring</td></tr><tr><td>a, Floor screeding as specified Approx 2800sqft</td></tr></table>"
            ]
          },
          "metadata": {}
        },
        {
          "output_type": "stream",
          "name": "stdout",
          "text": [
            "\n",
            "\n",
            " **************************************************************************************************** \n",
            "\n",
            "\n"
          ]
        },
        {
          "output_type": "display_data",
          "data": {
            "text/plain": [
              "<IPython.core.display.HTML object>"
            ],
            "text/html": [
              "<table><thead><th>Description of Works</th><th>Price</th></thead><tr><td colspan=\"2\">PE Indoor Lab - Walls, Doors, Windows, Mirror &amp; Others</td></tr><tr><td>a. Design, supply and installation of framed double-leaf tempered clear swing glass door to replace the existing motorized sliding door, The door shall be provided with mechanical lock and EM lock which shall be link to existing card access system. Key and lock provided shall be of master key system as specified. Fixed type of tempered glass shall be used for the space between door and the ceiling.</td><td>1,725.</td></tr><tr><td>b. To provide sound attenuate material to fill up the existing gap between the glass wall (above ceiling space) and the soffit. (Propose to use drywall partition to box up)</td><td></td></tr><tr><td>c. To supply and install Mirror of 7m(L) x 2.4m(H) as specified and all the necessary support and accessories at wall as indicated in sketch 001</td><td>2,250.</td></tr><tr><td>d. To supply and install timber skirting around all walls as specified in Sketch 001 Approx Total Length : 58,000mmt x 100mmH</td><td></td></tr><tr><td>f. To as ms inetatetion of new anueen ont board as</td><td></td></tr><tr><td>g. Signages for the PE Indoor Lab</td><td></td></tr><tr><td colspan=\"2\">To design and supply entrance signage with 3D letterings and artwork with all fixing accessories.</td></tr><tr><td colspan=\"2\">oe ny</td></tr><tr><td>h. Feature wall for the PE Indoor Lab</td><td></td></tr></table>"
            ]
          },
          "metadata": {}
        },
        {
          "output_type": "stream",
          "name": "stdout",
          "text": [
            "\n",
            "\n",
            " **************************************************************************************************** \n",
            "\n",
            "\n"
          ]
        },
        {
          "output_type": "display_data",
          "data": {
            "text/plain": [
              "<IPython.core.display.HTML object>"
            ],
            "text/html": [
              "<table><tr><td>| To supply and install new manually operated roller blind as peril tats re dai yates afi Aocases</td><td></td></tr><tr><td>eR ema</td><td></td></tr><tr><td>n. Ree te ee in Sketch 002 imens: On. M x</td><td>$$1,000.00</td></tr><tr><td>The work shall include design, supply, testing and commissioning of the additional and modification of the fire protection and detection systems to comply with the latest building/fire codes including but not limited to the sprinklers, hose reel, extinguishers and all associated piping and accessories. The work shall include hydraulic pressure testing of the modified/additional sprinkler system, protection to existing services during the installation works, dismantling of existing sprinkler points, draining off, interfacing with the existing sprinkler system and all necessary ancillaries and accessories. All addition and alteration works are to be indicated in the as-built drawing and with PE’s endorsement.</td><td></td></tr></table>"
            ]
          },
          "metadata": {}
        },
        {
          "output_type": "stream",
          "name": "stdout",
          "text": [
            "\n",
            "\n",
            " **************************************************************************************************** \n",
            "\n",
            "\n"
          ]
        },
        {
          "output_type": "display_data",
          "data": {
            "text/plain": [
              "<IPython.core.display.HTML object>"
            ],
            "text/html": [
              "<table><thead><th></th><th></th><th></th></thead><tr><td rowspan=\"3\"></td><td></td><td></td></tr><tr><td></td><td></td><td></td></tr><tr><td></td><td></td><td></td></tr><tr><td rowspan=\"2\"></td><td></td><td rowspan=\"2\"></td></tr><tr><td></td><td></td><td></td></tr></table>"
            ]
          },
          "metadata": {}
        },
        {
          "output_type": "stream",
          "name": "stdout",
          "text": [
            "\n",
            "\n",
            " **************************************************************************************************** \n",
            "\n",
            "\n"
          ]
        },
        {
          "output_type": "display_data",
          "data": {
            "text/plain": [
              "<IPython.core.display.HTML object>"
            ],
            "text/html": [
              "<table><tr><td rowspan=\"3\">5.5</td><td>To design and supply LED lighting for the PE Indoor Lab. The design luminaries shall comply with the specification. Each circuit shall incorporate with dimmer (minimum 2 circuits), Final sub- circuit for lighting from distribution boards to and including lighting points complete with timer control, light switches, light fittings and earth continuity conductors, including all necessary ancillaries and accessories. The Contractor shall connect all new cabling and ancillaries to the sub-boards located at the riser.</td></tr><tr><td></td><td>The lighting design within the space shall not exceed 11Wim2 to meet Green Mark requirement without compromising the lux level as stipulated in the prevailing Code of Practice.</td></tr><tr><td></td><td>All light fitting fixtures shall be of LED type as specified and of Ceiling flush type.</td></tr><tr><td>5.6</td><td>To supply AV patch panel as specified in Sketch 002</td></tr><tr><td>5.7</td><td>Coordination with ITE’s direct contractor on the installation of LAN points where necessary.</td></tr><tr><td>5.8</td><td>Integrated Building Management System Access control system complete with reader, exit release button, EM lock, door contact sensor, controller, cabling and including of programming, testing and commissioning. The system shall be able to support the CEPAS contactless smart card and linked to the fire ire alarm ide supeah in eee with ~ Fire com es ome</td></tr></table>"
            ]
          },
          "metadata": {}
        },
        {
          "output_type": "stream",
          "name": "stdout",
          "text": [
            "\n",
            "\n",
            " **************************************************************************************************** \n",
            "\n",
            "\n"
          ]
        },
        {
          "output_type": "display_data",
          "data": {
            "text/plain": [
              "<IPython.core.display.HTML object>"
            ],
            "text/html": [
              "<table><thead><th>id allowed</th><th>Ve ce ha 4 m Le for in the Tender Price.</th><th></th><th></th></thead><tr><td></td><td></td><td>$</td><td>NA.</td></tr></table>"
            ]
          },
          "metadata": {}
        },
        {
          "output_type": "stream",
          "name": "stdout",
          "text": [
            "\n",
            "\n",
            " **************************************************************************************************** \n",
            "\n",
            "\n"
          ]
        }
      ]
    },
    {
      "cell_type": "code",
      "source": [],
      "metadata": {
        "id": "ZXXSEw-RKhV3"
      },
      "execution_count": null,
      "outputs": []
    }
  ]
}