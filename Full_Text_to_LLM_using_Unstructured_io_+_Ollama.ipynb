{
  "nbformat": 4,
  "nbformat_minor": 0,
  "metadata": {
    "colab": {
      "provenance": [],
      "authorship_tag": "ABX9TyNF4Vsq4dp3ZULuJ6NZxdn1",
      "include_colab_link": true
    },
    "kernelspec": {
      "name": "python3",
      "display_name": "Python 3"
    },
    "language_info": {
      "name": "python"
    }
  },
  "cells": [
    {
      "cell_type": "markdown",
      "metadata": {
        "id": "view-in-github",
        "colab_type": "text"
      },
      "source": [
        "<a href=\"https://colab.research.google.com/github/vinay-jose/rag-nbs/blob/main/Full_Text_to_LLM_using_Unstructured_io_%2B_Ollama.ipynb\" target=\"_parent\"><img src=\"https://colab.research.google.com/assets/colab-badge.svg\" alt=\"Open In Colab\"/></a>"
      ]
    },
    {
      "cell_type": "code",
      "execution_count": null,
      "metadata": {
        "id": "4RijlLOiaHqZ"
      },
      "outputs": [],
      "source": [
        "!sudo apt-get install poppler-utils\n",
        "!sudo apt-get install tesseract-ocr"
      ]
    },
    {
      "cell_type": "code",
      "source": [
        "!pip install -Uqq \"unstructured[all-docs]\" pytesseract"
      ],
      "metadata": {
        "id": "F0y2hgSTaeGG"
      },
      "execution_count": null,
      "outputs": []
    },
    {
      "cell_type": "code",
      "source": [
        "from unstructured.partition.pdf import partition_pdf"
      ],
      "metadata": {
        "id": "LjJQuJNabMYs"
      },
      "execution_count": null,
      "outputs": []
    },
    {
      "cell_type": "code",
      "source": [
        "elements = partition_pdf(filename=fname,\n",
        "                         infer_table_structure=True,\n",
        "                         strategy='hi_res', # https://docs.unstructured.io/open-source/concepts/partitioning-strategies\n",
        "                         hi_res_model_name=\"yolox_quantized\" # https://docs.unstructured.io/open-source/concepts/models - yolox, yolox_quantized, detectron2_onnx\n",
        "           )"
      ],
      "metadata": {
        "id": "ei29kdpLbOlG"
      },
      "execution_count": null,
      "outputs": []
    },
    {
      "cell_type": "code",
      "source": [
        "documents = []\n",
        "page = \"\"\n",
        "tmp = elements[0].metadata.page_number\n",
        "for el in elements:\n",
        "  if el.category == \"Table\":\n",
        "    page += el.metadata.text_as_html\n",
        "  elif el.category == \"Header\":\n",
        "    page += f\"<h1>{el.text}</h1>\"\n",
        "  elif el.category == \"Title\":\n",
        "    page += f\"<h2>{el.text}</h2>\"\n",
        "  else:\n",
        "    page += el.text\n",
        "\n",
        "  page += \"\\n\"\n",
        "\n",
        "  if el.metadata.page_number != tmp:\n",
        "    docs.append(page)\n",
        "    page = \"\"\n",
        "    tmp = el.metadata.page_number\n",
        "\n",
        "docs.append(page)\n",
        "\n",
        "len(documents)"
      ],
      "metadata": {
        "id": "3gKhZ9-LbViU"
      },
      "execution_count": null,
      "outputs": []
    },
    {
      "cell_type": "code",
      "source": [
        "print(documents[0])"
      ],
      "metadata": {
        "id": "u6W0HShTbgiG"
      },
      "execution_count": null,
      "outputs": []
    },
    {
      "cell_type": "code",
      "source": [
        "prompt_template = f\"\"\"\n",
        "You are an AI assistant. Given the user query: \"{query}\", and the following list of relevant documents:\n",
        "\n",
        "{documents}\n",
        "\n",
        "Generate a coherent and informative response that addresses the user's query using the information from the documents.\n",
        "\"\"\""
      ],
      "metadata": {
        "id": "CE5TBV2Cb1d5"
      },
      "execution_count": null,
      "outputs": []
    }
  ]
}