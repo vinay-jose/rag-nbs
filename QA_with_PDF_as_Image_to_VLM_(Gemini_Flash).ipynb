{
  "nbformat": 4,
  "nbformat_minor": 0,
  "metadata": {
    "colab": {
      "provenance": [],
      "authorship_tag": "ABX9TyPrjJM9hHeslw9+B1cJacbk",
      "include_colab_link": true
    },
    "kernelspec": {
      "name": "python3",
      "display_name": "Python 3"
    },
    "language_info": {
      "name": "python"
    }
  },
  "cells": [
    {
      "cell_type": "markdown",
      "metadata": {
        "id": "view-in-github",
        "colab_type": "text"
      },
      "source": [
        "<a href=\"https://colab.research.google.com/github/vinay-jose/rag-nbs/blob/main/QA_with_PDF_as_Image_to_VLM_(Gemini_Flash).ipynb\" target=\"_parent\"><img src=\"https://colab.research.google.com/assets/colab-badge.svg\" alt=\"Open In Colab\"/></a>"
      ]
    },
    {
      "cell_type": "code",
      "source": [
        "!sudo apt-get install poppler-utils\n",
        "!sudo apt-get install tesseract-ocr"
      ],
      "metadata": {
        "id": "zMzWpvZqi8n9"
      },
      "execution_count": null,
      "outputs": []
    },
    {
      "cell_type": "code",
      "source": [
        "!pip install -Uqq PyMuPDF pytesseract pdf2image google-generativeai"
      ],
      "metadata": {
        "id": "wqrKfYN1i4J5"
      },
      "execution_count": null,
      "outputs": []
    },
    {
      "cell_type": "code",
      "source": [
        "import fitz  # PyMuPDF\n",
        "import pytesseract\n",
        "from pdf2image import convert_from_path\n",
        "import google.generativeai as google_genai\n",
        "import PIL.Image\n",
        "import os"
      ],
      "metadata": {
        "id": "CeNg7P6xjsgT"
      },
      "execution_count": null,
      "outputs": []
    },
    {
      "cell_type": "code",
      "source": [
        "images = convert_from_path(\"/content/THINKZ schedule of work.pdf\") # Convert PDF pages to list of Images\n",
        "query = \"What is the total cost?\""
      ],
      "metadata": {
        "id": "7kMriI7CjpCB"
      },
      "execution_count": null,
      "outputs": []
    },
    {
      "cell_type": "code",
      "source": [
        "google_genai.configure(api_key=os.environ[\"GOOGLE_API_KEY\"])\n",
        "model = google_genai.GenerativeModel(model_name=\"gemini-1.5-flash\")\n",
        "response = model.generate_content([query, images])\n",
        "\n",
        "response.text"
      ],
      "metadata": {
        "id": "93NRvmlAjcb1"
      },
      "execution_count": null,
      "outputs": []
    }
  ]
}