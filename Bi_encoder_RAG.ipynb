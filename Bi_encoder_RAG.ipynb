{
  "nbformat": 4,
  "nbformat_minor": 0,
  "metadata": {
    "colab": {
      "provenance": [],
      "authorship_tag": "ABX9TyOv6LVcFfLF3eeGarBWbahE",
      "include_colab_link": true
    },
    "kernelspec": {
      "name": "python3",
      "display_name": "Python 3"
    },
    "language_info": {
      "name": "python"
    }
  },
  "cells": [
    {
      "cell_type": "markdown",
      "metadata": {
        "id": "view-in-github",
        "colab_type": "text"
      },
      "source": [
        "<a href=\"https://colab.research.google.com/github/vinay-jose/rag-nbs/blob/main/Bi_encoder_RAG.ipynb\" target=\"_parent\"><img src=\"https://colab.research.google.com/assets/colab-badge.svg\" alt=\"Open In Colab\"/></a>"
      ]
    },
    {
      "cell_type": "code",
      "execution_count": null,
      "metadata": {
        "id": "RNPUfryAYYFm"
      },
      "outputs": [],
      "source": [
        "!sudo apt-get install poppler-utils\n",
        "!sudo apt-get install tesseract-ocr"
      ]
    },
    {
      "cell_type": "code",
      "source": [
        "!pip install -Uqq \"unstructured[all-docs]\" pytesseract \"qdrant-client[fastembed]\" transformers huggingface_hub \"rerankers\""
      ],
      "metadata": {
        "id": "1tEEfqhkY_vS"
      },
      "execution_count": null,
      "outputs": []
    },
    {
      "cell_type": "code",
      "source": [
        "from unstructured.partition.pdf import partition_pdf\n",
        "from unstructured.chunking.title import chunk_by_title\n",
        "from qdrant_client import QdrantClient, models\n",
        "from tqdm import tqdm\n",
        "from rerankers import Reranker"
      ],
      "metadata": {
        "id": "g2_WxRiiZDfX"
      },
      "execution_count": null,
      "outputs": []
    },
    {
      "cell_type": "code",
      "source": [
        "fname = \"/content/THINKZ schedule of work.pdf\""
      ],
      "metadata": {
        "id": "t6wJWMVLZQak"
      },
      "execution_count": null,
      "outputs": []
    },
    {
      "cell_type": "code",
      "source": [
        "elements = partition_pdf(filename=fname,\n",
        "                         infer_table_structure=True,\n",
        "                         strategy='hi_res', # https://docs.unstructured.io/open-source/concepts/partitioning-strategies\n",
        "                         hi_res_model_name=\"yolox_quantized\" # https://docs.unstructured.io/open-source/concepts/models - yolox, yolox_quantized, detectron2_onnx\n",
        "           )"
      ],
      "metadata": {
        "id": "fyxFvDwxZWjX"
      },
      "execution_count": null,
      "outputs": []
    },
    {
      "cell_type": "code",
      "source": [
        "chunks = chunk_by_title(elements)"
      ],
      "metadata": {
        "id": "QJUMr8n8ZZCM"
      },
      "execution_count": null,
      "outputs": []
    },
    {
      "cell_type": "code",
      "source": [
        "# client = QdrantClient(url=\"http://localhost:6334\")\n",
        "client = QdrantClient(\":memory:\")"
      ],
      "metadata": {
        "id": "F6L_R_HDZ4Gr"
      },
      "execution_count": null,
      "outputs": []
    },
    {
      "cell_type": "code",
      "source": [
        "client.set_model(\"sentence-transformers/all-MiniLM-L6-v2\")\n",
        "# comment the line below to use dense vectors only\n",
        "client.set_sparse_model(\"prithivida/Splade_PP_en_v1\")"
      ],
      "metadata": {
        "id": "0GFqMQPcZ81V"
      },
      "execution_count": null,
      "outputs": []
    },
    {
      "cell_type": "code",
      "source": [
        "if not client.collection_exists(\"docs\"):\n",
        "    client.create_collection(\n",
        "            collection_name=\"docs\",\n",
        "            vectors_config=client.get_fastembed_vector_params(),\n",
        "            # comment this line to use dense vectors only\n",
        "            sparse_vectors_config=client.get_fastembed_sparse_vector_params(),\n",
        "        )"
      ],
      "metadata": {
        "id": "1PQFKqG2aFr5"
      },
      "execution_count": null,
      "outputs": []
    },
    {
      "cell_type": "code",
      "source": [
        "data = {\n",
        "    \"tenant\": \"thinkz\",\n",
        "    \"project\": \"tender\"\n",
        "}"
      ],
      "metadata": {
        "id": "Jg6L9zBRaIyY"
      },
      "execution_count": null,
      "outputs": []
    },
    {
      "cell_type": "code",
      "source": [
        "documents = []\n",
        "metadata = []\n",
        "for chunk in chunks:\n",
        "    meta = chunk.metadata.to_dict()\n",
        "    meta[\"tenant\"] = data.get(\"tenant\")\n",
        "    meta[\"project\"] = data.get(\"project\")\n",
        "    documents.append(chunk.text)\n",
        "    metadata.append(meta)"
      ],
      "metadata": {
        "id": "zNXnF17XaJYQ"
      },
      "execution_count": null,
      "outputs": []
    },
    {
      "cell_type": "code",
      "source": [
        "client.add(\n",
        "    collection_name=\"tender_docs\",\n",
        "    documents=documents,\n",
        "    metadata=metadata,\n",
        "    parallel=0,  # Use all available CPU cores to encode data.\n",
        "    ids=tqdm(range(len(documents))),\n",
        ")"
      ],
      "metadata": {
        "id": "xXC_66hZaLxx"
      },
      "execution_count": null,
      "outputs": []
    },
    {
      "cell_type": "code",
      "source": [
        "# Add filter queries\n",
        "\n",
        "# query_filter = None\n",
        "\n",
        "tenant_of_interest = \"thinkz\"\n",
        "\n",
        "# Define a filter for tenants\n",
        "query_filter = models.Filter(\n",
        "    must=[\n",
        "        models.FieldCondition(\n",
        "            key=\"tenant\",\n",
        "            match=models.MatchValue(value=tenant_of_interest)\n",
        "        )\n",
        "    ]\n",
        ")"
      ],
      "metadata": {
        "id": "TRwDZTbraQ2s"
      },
      "execution_count": null,
      "outputs": []
    },
    {
      "cell_type": "code",
      "source": [
        "search_result = client.query (\n",
        "                    collection_name=\"tender_docs\",\n",
        "                    query_text=\"Total cost\",\n",
        "                    query_filter=query_filter,\n",
        "                    limit=5,  # num of the closest results\n",
        "                    # with_vectors=True, # to fetch stored vectors.\n",
        "                )\n",
        "\n",
        "search_result"
      ],
      "metadata": {
        "id": "qnIMV6ziaScn"
      },
      "execution_count": null,
      "outputs": []
    },
    {
      "cell_type": "code",
      "source": [
        "metadata = [hit.metadata for hit in search_result]\n",
        "metadata"
      ],
      "metadata": {
        "id": "32U3HW04aY2J"
      },
      "execution_count": null,
      "outputs": []
    },
    {
      "cell_type": "code",
      "source": [
        "scores = [hit.score for hit in search_result]\n",
        "scores"
      ],
      "metadata": {
        "id": "qsaDJ-jbaa0a"
      },
      "execution_count": null,
      "outputs": []
    },
    {
      "cell_type": "code",
      "source": [
        "documents = [hit.document for hit in search_result]\n",
        "documents"
      ],
      "metadata": {
        "id": "9SvMziDoacnK"
      },
      "execution_count": null,
      "outputs": []
    },
    {
      "cell_type": "code",
      "source": [
        "ranker = Reranker(\"colbert\")\n",
        "\n",
        "results = ranker.rank(\n",
        "    query=\"Total cost\",\n",
        "    docs= documents,\n",
        "    metadata = metadata,\n",
        "    # doc_ids=[0,1]\n",
        ")\n",
        "results"
      ],
      "metadata": {
        "id": "tI0rcxFzandQ"
      },
      "execution_count": null,
      "outputs": []
    },
    {
      "cell_type": "code",
      "source": [
        "results.top_k(3)"
      ],
      "metadata": {
        "id": "lwn8HNCBaomv"
      },
      "execution_count": null,
      "outputs": []
    },
    {
      "cell_type": "code",
      "source": [
        "prompt_template = f\"\"\"\n",
        "You are an AI assistant. Given the user query: \"{query}\", and the following list of relevant documents:\n",
        "\n",
        "{results}\n",
        "\n",
        "Generate a coherent and informative response that addresses the user's query using the information from the documents.\n",
        "\"\"\""
      ],
      "metadata": {
        "id": "AgNWTiZBawsc"
      },
      "execution_count": null,
      "outputs": []
    }
  ]
}